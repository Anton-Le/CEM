{
 "cells": [
  {
   "cell_type": "markdown",
   "id": "6793ff10-10db-498c-afb8-6a305cbac490",
   "metadata": {},
   "source": [
    "# FDTD testing notebook"
   ]
  },
  {
   "cell_type": "markdown",
   "id": "d7082146-1aba-445e-aba3-a2be022d9f74",
   "metadata": {},
   "source": [
    "### Description"
   ]
  },
  {
   "cell_type": "markdown",
   "id": "5980e387-079a-4188-aa88-388243c5716c",
   "metadata": {},
   "source": [
    "This notebook implements simple tests of the FDTD solver class written in Python.\n",
    "\n",
    "\n",
    "Following tests are implemented:\n",
    "\n",
    "1. Eigenmodes of a parallelepiped cavity with perfect cundoctor as a boundary.\n",
    "2. Visual inspection of an initialization of the electric field to that of a point charge.\n",
    "3. Visual inspection of an initialization of the electric field to that of a point charge *but* with the origin of the grid shifted by a given amount."
   ]
  },
  {
   "cell_type": "markdown",
   "id": "a2fe2b3b-5911-4fc7-a4e6-5ddff4651d0b",
   "metadata": {},
   "source": [
    "## Tests"
   ]
  },
  {
   "cell_type": "markdown",
   "id": "7eef528c-260c-4e9a-b6b0-eb82238a0145",
   "metadata": {},
   "source": [
    "Necessary imports of general libraries. We import NumPy, SciPy, Matplotlib and holoviews and set Matplotlib plots to be interactive widgets."
   ]
  },
  {
   "cell_type": "code",
   "execution_count": null,
   "id": "ab3758d6-288f-43db-97b1-2a102050d149",
   "metadata": {},
   "outputs": [],
   "source": [
    "import numpy as np\n",
    "import scipy as sp\n",
    "\n",
    "#%matplotlib notebook\n",
    "%matplotlib inline\n",
    "#%load_ext autoreload\n",
    "#%autoreload 2\n",
    "from matplotlib import pyplot as plt\n",
    "\n",
    "import holoviews as hv\n",
    "from scipy import constants"
   ]
  },
  {
   "cell_type": "markdown",
   "id": "7c1ac461-0a4b-438e-b6b0-6ca6d4effee5",
   "metadata": {},
   "source": [
    "Import the grid class. This class does not diffeentiate between the field components in the array allocation and size."
   ]
  },
  {
   "cell_type": "code",
   "execution_count": null,
   "id": "b33f76ab-3a15-41b1-802c-fef18349b694",
   "metadata": {},
   "outputs": [],
   "source": [
    "from fdtd3d import UnifiedYeeGrid"
   ]
  },
  {
   "cell_type": "markdown",
   "id": "8056f1f0-0aee-4289-84d7-8d5993764682",
   "metadata": {},
   "source": [
    "Define physical quantities in SI units from `scipy.constants`"
   ]
  },
  {
   "cell_type": "code",
   "execution_count": null,
   "id": "8ff3557d-4ffa-4554-9175-90091d306164",
   "metadata": {},
   "outputs": [],
   "source": [
    "eps0 = constants.epsilon_0 \n",
    "mu0 = constants.mu_0 \n",
    "c0= constants.c "
   ]
  },
  {
   "cell_type": "markdown",
   "id": "798b005c-1f2e-4698-b34e-2ac9c1d4bf29",
   "metadata": {},
   "source": [
    "We define a cavity of dimensions $L_x \\times L_y \\times L_z$ and discretize it using $N_x \\times N_y \\times N_z$ cells.\n",
    "\n",
    "The fields will be initialized to white noise and propagated for $N_t$ time steps. Using the resulting sampled time-series of the electric field we can compute the empirical eigenfrequencies of the cavity, to be compared with TE and TM modes which can be determined analytically."
   ]
  },
  {
   "cell_type": "code",
   "execution_count": null,
   "id": "6ed95334-b129-43f9-b068-04ee4d978613",
   "metadata": {},
   "outputs": [],
   "source": [
    "Lx = .05;\n",
    "Ly = .04;\n",
    "Lz = .03;\n",
    "Nx = 25;\n",
    "Ny = 20;\n",
    "Nz = 15;\n",
    "Cx = Nx / Lx;\n",
    "Cy = Ny / Ly;\n",
    "Cz = Nz / Lz;\n",
    "Nt = 8192;\n",
    "Dt = 1/(c0*np.linalg.norm([Cx, Cy, Cz]))"
   ]
  },
  {
   "cell_type": "code",
   "execution_count": null,
   "id": "095c2ee9-4da3-470b-9046-b52026a2f32e",
   "metadata": {},
   "outputs": [],
   "source": [
    "grid = UnifiedYeeGrid(Nx, Ny, Nz, pmlCells=(0,0,0), cellDim=(1./Cx, 1./Cy, 1./Cz) )"
   ]
  },
  {
   "cell_type": "markdown",
   "id": "05914c0f-18d2-45eb-bb09-7aacddd78ecf",
   "metadata": {},
   "source": [
    "Initialize the electric field to white noise."
   ]
  },
  {
   "cell_type": "code",
   "execution_count": null,
   "id": "e6adbafe-4e02-49b2-9f7a-963c014e8430",
   "metadata": {},
   "outputs": [],
   "source": [
    "grid.initRandom()"
   ]
  },
  {
   "cell_type": "markdown",
   "id": "0c5e179d-7ca9-4528-a0b0-6dbc9855699e",
   "metadata": {},
   "source": [
    "Create an array to store sampled field values to , to be later Fourier transformed into a spectrum."
   ]
  },
  {
   "cell_type": "code",
   "execution_count": null,
   "id": "e5eabaff-c383-4164-bfd9-c9134345d2df",
   "metadata": {},
   "outputs": [],
   "source": [
    "Et = np.zeros((Nt,3));"
   ]
  },
  {
   "cell_type": "code",
   "execution_count": null,
   "id": "d20ceaf1-d01d-451c-ab17-5e4b7ccbcb0b",
   "metadata": {},
   "outputs": [],
   "source": [
    "for t in range(Nt):\n",
    "            grid.updateOwn(eps0, mu0, Dt, (1./Cx, 1./Cy, 1./Cz) );\n",
    "            Et[t, :] = np.array([ grid.Ex(3,3,3), grid.Ey(3,3,3), grid.Ez(3,3,3) ])"
   ]
  },
  {
   "cell_type": "code",
   "execution_count": null,
   "id": "00a063cd-10fc-4a41-ab45-5b5a4ea2d5cd",
   "metadata": {},
   "outputs": [],
   "source": [
    "t = np.linspace(0, Nt*Dt, Nt)"
   ]
  },
  {
   "cell_type": "code",
   "execution_count": null,
   "id": "f0b3be83-3f58-47d6-959f-49501876392b",
   "metadata": {},
   "outputs": [],
   "source": [
    "ftFields = np.fft.fft(Et, axis=0)"
   ]
  },
  {
   "cell_type": "code",
   "execution_count": null,
   "id": "f9ae9f11-6337-4c9c-9002-80e4f06d3359",
   "metadata": {},
   "outputs": [],
   "source": [
    "ftFields.shape"
   ]
  },
  {
   "cell_type": "code",
   "execution_count": null,
   "id": "298d73ac-4c75-413c-9bd3-310acccc868f",
   "metadata": {},
   "outputs": [],
   "source": [
    "frequencies=np.fft.fftfreq(Et.shape[0], d=Dt)"
   ]
  },
  {
   "cell_type": "code",
   "execution_count": null,
   "id": "b90efee4-96f4-4f41-a84b-8cc5022530b7",
   "metadata": {},
   "outputs": [],
   "source": [
    "angularFrequencies=2*np.pi*frequencies"
   ]
  },
  {
   "cell_type": "markdown",
   "id": "7bd51127-cd4a-4200-934e-e159c345654a",
   "metadata": {},
   "source": [
    "Compute the analyti eigenfrequencies of the TE and TM modes of the cavity."
   ]
  },
  {
   "cell_type": "code",
   "execution_count": null,
   "id": "5712e465-9aef-4a09-a1b4-4c2c40b58c52",
   "metadata": {},
   "outputs": [],
   "source": [
    "def eigenfrequency(m, n, p, Lx, Ly, Lz):\n",
    "    return c0/2 * np.sqrt( (m/Lx)**2 + (n/Ly)**2 + (p/Lz)**2 )"
   ]
  },
  {
   "cell_type": "code",
   "execution_count": null,
   "id": "94859f3c-60fb-4581-8660-66ec85f6df96",
   "metadata": {},
   "outputs": [],
   "source": [
    "eigenfreqList = []\n",
    "\n",
    "xModes = 4\n",
    "yModes = 3\n",
    "zModes = 3\n",
    "\n",
    "# TM modes\n",
    "for m in range(1, xModes):\n",
    "    for n in range(1, yModes):\n",
    "        for p in range(zModes):\n",
    "            eigenfreqList.append( eigenfrequency(m,n,p, Lx, Ly, Lz) )\n",
    "# TE modes\n",
    "for p in range(1, zModes):\n",
    "    for n in range(yModes):\n",
    "        if n==0:\n",
    "            for m in range(1, xModes):\n",
    "                eigenfreqList.append( eigenfrequency(m,n,p, Lx, Ly, Lz) )\n",
    "        else:\n",
    "            eigenfreqList.append( eigenfrequency(0,n,p, Lx, Ly, Lz) )"
   ]
  },
  {
   "cell_type": "code",
   "execution_count": null,
   "id": "2d4ed2da-3d2e-46fe-af7b-55eb878dd238",
   "metadata": {},
   "outputs": [],
   "source": [
    "plt.close()\n",
    "plt.plot(np.fft.fftshift(frequencies/1e9), np.fft.fftshift(abs(np.sum(ftFields, axis=1))), 'r-')\n",
    "\n",
    "plt.vlines([item/1e9 for item in np.unique(eigenfreqList)], 0, 50, linestyles='-.')\n",
    "plt.xlim(0,10)\n",
    "plt.ylim(0,50)"
   ]
  },
  {
   "cell_type": "code",
   "execution_count": null,
   "id": "8a3eba24-cdf7-410b-97c8-1d976fb8e1c7",
   "metadata": {},
   "outputs": [],
   "source": [
    "plt.close()"
   ]
  },
  {
   "cell_type": "code",
   "execution_count": null,
   "id": "cc1d3147-f233-4c61-8e95-4b26aa21dbe0",
   "metadata": {},
   "outputs": [],
   "source": [
    "subset = abs(np.sum(ftFields, axis=1))[:len(ftFields)//2]"
   ]
  },
  {
   "cell_type": "code",
   "execution_count": null,
   "id": "16d041d9-b9ff-4b06-a6c5-62264f1181d7",
   "metadata": {},
   "outputs": [],
   "source": [
    "subsetFrequencies = frequencies[:len(ftFields)//2]/1e9"
   ]
  },
  {
   "cell_type": "markdown",
   "id": "43aa462c-5854-4e4f-ad0f-8403cd41c4c3",
   "metadata": {},
   "source": [
    "Find the peaks in the signal, to filter the array of computed data to be compared to analytical frequencies."
   ]
  },
  {
   "cell_type": "code",
   "execution_count": null,
   "id": "b0b45095-1919-4a32-b7e5-c640c9515a64",
   "metadata": {},
   "outputs": [],
   "source": [
    "import scipy.signal as spsig"
   ]
  },
  {
   "cell_type": "code",
   "execution_count": null,
   "id": "462fd663-3ec7-4859-9cf5-934dd01cbe8d",
   "metadata": {},
   "outputs": [],
   "source": [
    "peaks, _ = spsig.find_peaks(abs(np.sum(ftFields, axis=1))[:len(ftFields)//2], height=3)"
   ]
  },
  {
   "cell_type": "code",
   "execution_count": null,
   "id": "308286b5-da62-4339-a24d-9a4cbb83b702",
   "metadata": {},
   "outputs": [],
   "source": [
    "plt.close()\n",
    "plt.plot(np.fft.fftshift(frequencies/1e9), np.fft.fftshift(abs(np.sum(ftFields, axis=1))), 'r-', label='$\\propto|E_x + E_y+E_z|$')\n",
    "#plt.plot(np.fft.fftshift(frequencies/1e9), abs(np.sum(ftFields, axis=1)), 'r-',)\n",
    "\n",
    "plt.plot(subsetFrequencies[peaks], subset[peaks], \"x\", label='num. peakfinding')\n",
    "\n",
    "plt.vlines([item/1e9 for item in np.unique(eigenfreqList)], 0, 50, linestyles='-.', label='analytic')\n",
    "\n",
    "plt.xlabel(\"Frequency [GHz]\", fontsize='x-large')\n",
    "plt.ylabel(\"Field magnitude [V/m]\", fontsize='x-large')\n",
    "plt.legend(loc='upper left')\n",
    "plt.xlim(1,10)\n",
    "plt.ylim(0,50)\n",
    "plt.savefig(\"PEC_Cavity_Eigenfrequencies.png\", dpi=120)"
   ]
  },
  {
   "cell_type": "code",
   "execution_count": null,
   "id": "34a06080-6f1b-4213-beb1-b83487c5b1be",
   "metadata": {},
   "outputs": [],
   "source": [
    "np.unique(subsetFrequencies[peaks])[:len(np.unique(eigenfreqList))]"
   ]
  },
  {
   "cell_type": "code",
   "execution_count": null,
   "id": "15a16568-ceca-4ff5-b91c-b54c26857e5c",
   "metadata": {},
   "outputs": [],
   "source": [
    "np.unique(eigenfreqList)/1e9"
   ]
  },
  {
   "cell_type": "code",
   "execution_count": null,
   "id": "9053df6b-d117-479f-bde0-eec0d2f1d38a",
   "metadata": {},
   "outputs": [],
   "source": [
    "EigenfreqDifferences = np.unique(subsetFrequencies[peaks])[:len(np.unique(eigenfreqList))] - np.unique(eigenfreqList)/1e9"
   ]
  },
  {
   "cell_type": "code",
   "execution_count": null,
   "id": "c4db2b33-fe81-4850-9ebf-f9e402c27eeb",
   "metadata": {},
   "outputs": [],
   "source": [
    "relApproxErr = EigenfreqDifferences/(np.unique(eigenfreqList)/1e9)"
   ]
  },
  {
   "cell_type": "code",
   "execution_count": null,
   "id": "b56b7745-14c8-4f58-96b9-f44ae372b955",
   "metadata": {},
   "outputs": [],
   "source": [
    "print(\"Maximum relative error\", abs(relApproxErr).max())\n",
    "print(\"Minimum relative error\", abs(relApproxErr).min())"
   ]
  },
  {
   "cell_type": "code",
   "execution_count": null,
   "id": "f4820c67-913f-49ec-b2ba-6ced51cf4fb6",
   "metadata": {},
   "outputs": [],
   "source": []
  },
  {
   "cell_type": "markdown",
   "id": "636b7f2a-a1d5-48aa-b1da-2361b7fe2406",
   "metadata": {},
   "source": [
    "## Plot field slices using Holoviews"
   ]
  },
  {
   "cell_type": "code",
   "execution_count": null,
   "id": "34d381ce-cf28-4405-aed2-938c46ac11d3",
   "metadata": {},
   "outputs": [],
   "source": [
    "hv.extension('matplotlib')\n",
    "#hv.extension('bokeh')"
   ]
  },
  {
   "cell_type": "code",
   "execution_count": null,
   "id": "687a610d-d6b6-460d-870e-28dc76e58b55",
   "metadata": {},
   "outputs": [],
   "source": [
    "dataArray = grid.fldE[0,:,:,:]"
   ]
  },
  {
   "cell_type": "code",
   "execution_count": null,
   "id": "107365ba-9ddb-497a-a3cb-5342f4988ec2",
   "metadata": {},
   "outputs": [],
   "source": [
    "dataArray.shape"
   ]
  },
  {
   "cell_type": "code",
   "execution_count": null,
   "id": "00859a8e-8f1c-4fc8-81ec-f6024628f8e9",
   "metadata": {},
   "outputs": [],
   "source": [
    "ds = hv.Dataset((np.arange(dataArray.shape[2]), np.arange(dataArray.shape[1]), np.arange(dataArray.shape[0]), dataArray ), ['x', 'y', 'z'], \"z-component\")"
   ]
  },
  {
   "cell_type": "code",
   "execution_count": null,
   "id": "766f7b91-ba59-492b-8246-b728c9fbf2df",
   "metadata": {},
   "outputs": [],
   "source": [
    "hv.opts.defaults(\n",
    "hv.opts.Image(cmap='viridis', fig_size=200.0, normalize=True, colorbar=True),\n",
    "hv.opts.Labels(fontsize='8pt'),\n",
    "    hv.opts.Path(color='white'),\n",
    "    hv.opts.Spread(linewidth=600)\n",
    ")"
   ]
  },
  {
   "cell_type": "code",
   "execution_count": null,
   "id": "09590eba-9e8d-471a-9e82-bb0ca9b8844e",
   "metadata": {},
   "outputs": [],
   "source": [
    "ds.to(hv.Image, ['x','y'])"
   ]
  },
  {
   "cell_type": "markdown",
   "id": "80b4062c-4fef-4886-9417-0209aa6a4f4d",
   "metadata": {},
   "source": [
    "## Point charge field init"
   ]
  },
  {
   "cell_type": "code",
   "execution_count": null,
   "id": "ba5b1878-79af-454d-875c-1d8d18385d6c",
   "metadata": {},
   "outputs": [],
   "source": [
    "from fdtd3d import UnifiedYeeGrid"
   ]
  },
  {
   "cell_type": "code",
   "execution_count": null,
   "id": "6501fa9a-06ff-49b5-a89e-a4962c9d3bac",
   "metadata": {},
   "outputs": [],
   "source": [
    "def pointCharge(x,y,z):\n",
    "    factor = 1.0/(4*np.pi*eps0)\n",
    "    return factor * np.array([x,y,z])/np.linalg.norm(np.array([x,y,z]))**3"
   ]
  },
  {
   "cell_type": "code",
   "execution_count": null,
   "id": "21e375b0-b7c7-4fb6-b869-6858020992c9",
   "metadata": {},
   "outputs": [],
   "source": [
    "grid2 = UnifiedYeeGrid(Nx, Ny, Nz, pmlCells=(0,0,0), cellDim=(1./Cx, 1./Cy, 1./Cz) )"
   ]
  },
  {
   "cell_type": "code",
   "execution_count": null,
   "id": "933be071-c138-4ec2-a8d9-9df412a3c158",
   "metadata": {},
   "outputs": [],
   "source": [
    "grid2.initE(pointCharge)"
   ]
  },
  {
   "cell_type": "code",
   "execution_count": null,
   "id": "0364604c-5b09-491c-979e-adb174aec878",
   "metadata": {},
   "outputs": [],
   "source": [
    "dataArray2 = np.linalg.norm(grid2.fldE, axis=0)"
   ]
  },
  {
   "cell_type": "markdown",
   "id": "aef36c4c-3315-4e14-8a5f-35ba29a881da",
   "metadata": {},
   "source": [
    "Define a symmetric logarithmic color scale. The scale is logarithmic above `linthrsh` and below `-linthrsh` and linear in between (since log-scale does not extend to 0). This linearization threshold is set to be the value of the 0.4-quantile of the magnitudes of the field data."
   ]
  },
  {
   "cell_type": "code",
   "execution_count": null,
   "id": "0d36d35b-c4fa-452f-8bec-a1cfb9d1a2e1",
   "metadata": {},
   "outputs": [],
   "source": [
    "from matplotlib.colors import LogNorm, SymLogNorm"
   ]
  },
  {
   "cell_type": "code",
   "execution_count": null,
   "id": "c8375c84-0758-4a1c-99be-3c4ca380e221",
   "metadata": {},
   "outputs": [],
   "source": [
    "vmin = max(1e-40, abs(dataArray2).min())\n",
    "vmax = max(1e-10, abs(dataArray2).max())\n",
    "\n",
    "linthrsh = np.quantile(abs(dataArray2), 0.4)\n",
    "forceNorm = SymLogNorm(vmax=vmax, vmin=-vmax, linthresh=linthrsh );"
   ]
  },
  {
   "cell_type": "code",
   "execution_count": null,
   "id": "8675ef87-cadd-4260-b6b1-47b2b0e96e90",
   "metadata": {},
   "outputs": [],
   "source": [
    "#dataArray2 = np.linalg.norm(grid2.fldE, axis=0)\n",
    "dataArray2 = grid2.fldE[2,:,:,:]"
   ]
  },
  {
   "cell_type": "code",
   "execution_count": null,
   "id": "871bbbcc-f87b-4448-a0c3-7a50b0e66b2c",
   "metadata": {},
   "outputs": [],
   "source": [
    "ds2 = hv.Dataset((np.arange(grid2.originCellCoordinates[2], grid2.originCellCoordinates[2]+grid2.dz*grid2.Nz_virt, grid2.dz),\n",
    "                  np.arange(grid2.originCellCoordinates[1], grid2.originCellCoordinates[1]+grid2.dy*grid2.Ny_virt, grid2.dy),\n",
    "                  np.arange(grid2.originCellCoordinates[0], grid2.originCellCoordinates[0]+grid2.dx*grid2.Nx_virt, grid2.dx), (dataArray2) ), ['z', 'y', 'x'], \"$ \\\\vec{E}_y$ [V/m]\")"
   ]
  },
  {
   "cell_type": "code",
   "execution_count": null,
   "id": "e404feab-6ab6-4756-8507-e66b9a8eade5",
   "metadata": {},
   "outputs": [],
   "source": [
    "hv.opts.defaults(\n",
    "hv.opts.Image(cmap='viridis', fig_size=400.0, normalize=True, colorbar=True, norm=forceNorm),\n",
    "hv.opts.Labels(fontsize='8pt'),\n",
    "    hv.opts.Path(color='white'),\n",
    "    hv.opts.Spread(linewidth=600)\n",
    ")"
   ]
  },
  {
   "cell_type": "code",
   "execution_count": null,
   "id": "0c78f84c-1c36-4b1c-8724-cc76259d1d6d",
   "metadata": {
    "tags": []
   },
   "outputs": [],
   "source": [
    "ds2.to(hv.Image, ['x', 'z'])"
   ]
  },
  {
   "cell_type": "markdown",
   "id": "d2b72463-1784-4d55-af96-04af4ff6fa58",
   "metadata": {},
   "source": [
    "## Dipole field"
   ]
  },
  {
   "cell_type": "markdown",
   "id": "f0e89920-af05-49a3-9eb0-99ab9f6ea9f2",
   "metadata": {},
   "source": [
    "Here we position a dipole consisting of $+e,-e$ around $\\vec{0}$ at positions $x=\\lbrace -0.02,0.02\\rbrace$ and lot the z field component "
   ]
  },
  {
   "cell_type": "code",
   "execution_count": null,
   "id": "31bb7b7b-d6af-48df-8294-e54e8c0a84b5",
   "metadata": {},
   "outputs": [],
   "source": [
    "def dipole(x,y,z):\n",
    "    factor = 1.0/(4*np.pi*eps0)\n",
    "    r1 = np.array([-0.02, 0,0 ])\n",
    "    r2 = np.array([0.02, 0, 0])\n",
    "    r11 = np.array([x,y,z]) - r1\n",
    "    r21 = np.array([x,y,z]) - r2\n",
    "    return factor * r11/np.linalg.norm(r11)**3 - factor*r21/np.linalg.norm(r21)**3"
   ]
  },
  {
   "cell_type": "code",
   "execution_count": null,
   "id": "87d491da-266c-438a-8578-b4d0097dc06b",
   "metadata": {},
   "outputs": [],
   "source": [
    "grid3 = UnifiedYeeGrid(Nx, Ny, Nz, pmlCells=(0,0,0), cellDim=(1./Cx, 1./Cy, 1./Cz) )"
   ]
  },
  {
   "cell_type": "code",
   "execution_count": null,
   "id": "415036a8-fc99-4316-95bd-005526fff1cb",
   "metadata": {},
   "outputs": [],
   "source": [
    "grid3.initE(dipole)"
   ]
  },
  {
   "cell_type": "code",
   "execution_count": null,
   "id": "61c1b536-6eb1-4fb9-afd7-e0e3d467e374",
   "metadata": {},
   "outputs": [],
   "source": [
    "dataArray3 = np.linalg.norm(grid3.fldE, axis=0)"
   ]
  },
  {
   "cell_type": "code",
   "execution_count": null,
   "id": "6d45700d-76ca-486b-9307-315ae04e7704",
   "metadata": {},
   "outputs": [],
   "source": [
    "dataArray3 = grid3.fldE[2,:,:,:]"
   ]
  },
  {
   "cell_type": "code",
   "execution_count": null,
   "id": "08a1e724-fd90-4c97-aba4-9e71cb153b96",
   "metadata": {},
   "outputs": [],
   "source": [
    "ds3 = hv.Dataset((np.arange(grid3.originCellCoordinates[2], grid3.originCellCoordinates[2]+grid3.dz*grid3.Nz_virt, grid3.dz),\n",
    "                  np.arange(grid3.originCellCoordinates[1], grid3.originCellCoordinates[1]+grid3.dy*grid3.Ny_virt, grid3.dy),\n",
    "                  np.arange(grid3.originCellCoordinates[0], grid3.originCellCoordinates[0]+grid3.dx*grid3.Nx_virt, grid3.dx), (dataArray3) ), ['z', 'y', 'x'], \"$ \\\\vec{E}_z$ [V/m]\")"
   ]
  },
  {
   "cell_type": "code",
   "execution_count": null,
   "id": "445caad6-51df-4863-8acd-408c59d3adef",
   "metadata": {},
   "outputs": [],
   "source": [
    "ds3.to(hv.Image, ['x', 'z'])"
   ]
  },
  {
   "cell_type": "code",
   "execution_count": null,
   "id": "e69c8a8b-e370-42a8-8ed9-29bb34d46479",
   "metadata": {},
   "outputs": [],
   "source": []
  }
 ],
 "metadata": {
  "kernelspec": {
   "display_name": "Python 3",
   "language": "python",
   "name": "python3"
  },
  "language_info": {
   "codemirror_mode": {
    "name": "ipython",
    "version": 3
   },
   "file_extension": ".py",
   "mimetype": "text/x-python",
   "name": "python",
   "nbconvert_exporter": "python",
   "pygments_lexer": "ipython3",
   "version": "3.6.13"
  }
 },
 "nbformat": 4,
 "nbformat_minor": 5
}
