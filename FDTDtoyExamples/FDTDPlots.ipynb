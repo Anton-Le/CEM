{
 "cells": [
  {
   "cell_type": "markdown",
   "id": "6793ff10-10db-498c-afb8-6a305cbac490",
   "metadata": {},
   "source": [
    "# FDTD testing notebook"
   ]
  },
  {
   "cell_type": "markdown",
   "id": "d7082146-1aba-445e-aba3-a2be022d9f74",
   "metadata": {},
   "source": [
    "### Description"
   ]
  },
  {
   "cell_type": "markdown",
   "id": "5980e387-079a-4188-aa88-388243c5716c",
   "metadata": {},
   "source": [
    "This notebook implements simple tests of the FDTD solver class written in Python.\n",
    "\n",
    "Following tests are implemented:\n",
    "\n",
    "1. Eigenmodes of a parallelepiped cavity with perfect cundoctor as a boundary.\n",
    "2. Visual inspection of an initialization of the electric field to that of a point charge.\n",
    "3. Visual inspection of an initialization of the electric field to that of a point charge *but* with the origin of the grid shifted by a given amount."
   ]
  },
  {
   "cell_type": "markdown",
   "id": "a2fe2b3b-5911-4fc7-a4e6-5ddff4651d0b",
   "metadata": {},
   "source": [
    "## Tests"
   ]
  },
  {
   "cell_type": "markdown",
   "id": "7eef528c-260c-4e9a-b6b0-eb82238a0145",
   "metadata": {},
   "source": [
    "Necessary imports of general libraries"
   ]
  },
  {
   "cell_type": "code",
   "execution_count": null,
   "id": "ab3758d6-288f-43db-97b1-2a102050d149",
   "metadata": {},
   "outputs": [],
   "source": [
    "import numpy as np\n",
    "import scipy as sp\n",
    "\n",
    "%matplotlib widget\n",
    "\n",
    "from matplotlib import pyplot as plt\n",
    "\n",
    "import holoviews as hv\n",
    "from scipy import constants"
   ]
  },
  {
   "cell_type": "markdown",
   "id": "7c1ac461-0a4b-438e-b6b0-6ca6d4effee5",
   "metadata": {},
   "source": [
    "Import the grid class. This class does not diffeentiate between the field components in the array allocation and size."
   ]
  },
  {
   "cell_type": "code",
   "execution_count": null,
   "id": "b33f76ab-3a15-41b1-802c-fef18349b694",
   "metadata": {},
   "outputs": [],
   "source": [
    "from fdtd3d import UnifiedYeeGrid"
   ]
  },
  {
   "cell_type": "markdown",
   "id": "8056f1f0-0aee-4289-84d7-8d5993764682",
   "metadata": {},
   "source": [
    "Define physical quantities in SI units. This can be circumvented using `scipy.constants`"
   ]
  },
  {
   "cell_type": "code",
   "execution_count": null,
   "id": "8ff3557d-4ffa-4554-9175-90091d306164",
   "metadata": {},
   "outputs": [],
   "source": [
    "eps0 = constants.epsilon_0 #8.8541878e-12;\n",
    "mu0 = constants.mu_0 #4e-7 * np.pi;\n",
    "c0= constants.c #299792458;"
   ]
  },
  {
   "cell_type": "markdown",
   "id": "798b005c-1f2e-4698-b34e-2ac9c1d4bf29",
   "metadata": {},
   "source": [
    "We define a cavity of dimensions $L_x \\times L_y \\times L_z$ and discretize it using $N_x \\times N_y \\times N_z$ cells.\n",
    "\n",
    "The fields will be initialized to white noise and propagated for $N_t$ time steps. Using the resulting sampled time-series of the electric field we can compute the empirical eigenfrequencies of the cavity, to be compared with TE and TM modes which can be determined analytically."
   ]
  },
  {
   "cell_type": "code",
   "execution_count": null,
   "id": "6ed95334-b129-43f9-b068-04ee4d978613",
   "metadata": {},
   "outputs": [],
   "source": [
    "Lx = .05; \n",
    "Ly = .04; \n",
    "Lz = .03;\n",
    "Nx = 25; \n",
    "Ny = 20; \n",
    "Nz = 15; \n",
    "Cx = Nx / Lx; \n",
    "Cy = Ny / Ly; \n",
    "Cz = Nz / Lz; \n",
    "Nt = 4096;\n",
    "Dt = 1/(c0*np.linalg.norm([Cx, Cy, Cz]))"
   ]
  },
  {
   "cell_type": "code",
   "execution_count": null,
   "id": "095c2ee9-4da3-470b-9046-b52026a2f32e",
   "metadata": {},
   "outputs": [],
   "source": [
    "grid = UnifiedYeeGrid(Nx, Ny, Nz, pmlCells=(0,0,0), cellDim=(1./Cx, 1./Cy, 1./Cz) )"
   ]
  },
  {
   "cell_type": "code",
   "execution_count": null,
   "id": "e6adbafe-4e02-49b2-9f7a-963c014e8430",
   "metadata": {},
   "outputs": [],
   "source": [
    "grid.initRandom()"
   ]
  },
  {
   "cell_type": "code",
   "execution_count": null,
   "id": "e5eabaff-c383-4164-bfd9-c9134345d2df",
   "metadata": {},
   "outputs": [],
   "source": [
    "Et = np.zeros((Nt,3));"
   ]
  },
  {
   "cell_type": "code",
   "execution_count": null,
   "id": "7862b2e3-6a99-4dd8-a3ae-07cc53f07746",
   "metadata": {},
   "outputs": [],
   "source": [
    "for t in range(Nt):\n",
    "            grid.updateOwn(eps0, mu0, Dt, (1./Cx, 1./Cy, 1./Cz) );\n",
    "            Et[t, :] = np.array([ grid.Ex(3,3,3), grid.Ey(3,3,3), grid.Ez(3,3,3) ])"
   ]
  },
  {
   "cell_type": "code",
   "execution_count": null,
   "id": "00a063cd-10fc-4a41-ab45-5b5a4ea2d5cd",
   "metadata": {},
   "outputs": [],
   "source": [
    "t = np.linspace(0, Nt*Dt, Nt)"
   ]
  },
  {
   "cell_type": "code",
   "execution_count": null,
   "id": "22933dc8-04ce-4718-a65a-9ddcbe960ac1",
   "metadata": {},
   "outputs": [],
   "source": [
    "plt.plot(t, Et[:,0], 'r-',  t, Et[:,1], 'g-', t, Et[:,2], 'b')\n",
    "plt.legend((\"Ex\", \"Ey\", \"Ez\"), loc='best')"
   ]
  },
  {
   "cell_type": "code",
   "execution_count": null,
   "id": "18dedd7f-3be4-4c98-90d1-07c316b491c6",
   "metadata": {},
   "outputs": [],
   "source": [
    "plt.close()"
   ]
  },
  {
   "cell_type": "code",
   "execution_count": null,
   "id": "aa1b624d-f8b5-4cc2-996c-94e2a02667e3",
   "metadata": {},
   "outputs": [],
   "source": [
    "plt.semilogy(t, np.linalg.norm(Et, axis=1)**2, 'k-')"
   ]
  },
  {
   "cell_type": "code",
   "execution_count": null,
   "id": "f0b3be83-3f58-47d6-959f-49501876392b",
   "metadata": {},
   "outputs": [],
   "source": [
    "ftFields = np.fft.fft(Et, axis=0)"
   ]
  },
  {
   "cell_type": "code",
   "execution_count": null,
   "id": "f9ae9f11-6337-4c9c-9002-80e4f06d3359",
   "metadata": {},
   "outputs": [],
   "source": [
    "ftFields.shape"
   ]
  },
  {
   "cell_type": "code",
   "execution_count": null,
   "id": "298d73ac-4c75-413c-9bd3-310acccc868f",
   "metadata": {},
   "outputs": [],
   "source": [
    "frequencies=np.fft.fftfreq(Et.shape[0], d=Dt)"
   ]
  },
  {
   "cell_type": "code",
   "execution_count": null,
   "id": "b90efee4-96f4-4f41-a84b-8cc5022530b7",
   "metadata": {},
   "outputs": [],
   "source": [
    "angularFrequencies=2*np.pi*frequencies"
   ]
  },
  {
   "cell_type": "code",
   "execution_count": null,
   "id": "35b4a003-ebf6-49eb-8ec7-e6ee926b840f",
   "metadata": {},
   "outputs": [],
   "source": [
    "plt.close()"
   ]
  },
  {
   "cell_type": "code",
   "execution_count": null,
   "id": "83cad24f-8ddc-4aac-b643-c8d6b2c906e6",
   "metadata": {},
   "outputs": [],
   "source": [
    "plt.plot(np.fft.fftshift(angularFrequencies), np.fft.fftshift(ftFields[:,0]), 'r-',\\\n",
    "                                                             np.fft.fftshift(angularFrequencies), np.fft.fftshift(ftFields[:,1]), 'g-',\\\n",
    "                                                             np.fft.fftshift(angularFrequencies), np.fft.fftshift(ftFields[:,2]), 'b')\n",
    "plt.legend((\"FEx\", \"FEy\", \"FEz\"), loc='best')"
   ]
  },
  {
   "cell_type": "code",
   "execution_count": null,
   "id": "37704ea4-13f8-44ce-b744-a4b8be5bdf44",
   "metadata": {},
   "outputs": [],
   "source": [
    "plt.close()"
   ]
  },
  {
   "cell_type": "code",
   "execution_count": null,
   "id": "6179d5b2-04ec-4d29-b7c6-8eed172bf5d3",
   "metadata": {},
   "outputs": [],
   "source": [
    "plt.plot(np.fft.fftshift(frequencies/1e9), np.fft.fftshift(np.linalg.norm(ftFields, axis=1)**2), 'r-')"
   ]
  },
  {
   "cell_type": "code",
   "execution_count": null,
   "id": "16b48821-0f44-49c7-aca7-a6022cd290e6",
   "metadata": {},
   "outputs": [],
   "source": [
    "grid.fldE.shape"
   ]
  },
  {
   "cell_type": "code",
   "execution_count": null,
   "id": "c28e038f-d36a-42d8-839b-1a949aa13673",
   "metadata": {},
   "outputs": [],
   "source": [
    "plt.close()\n",
    "plt.plot(np.fft.fftshift(frequencies/1e9), np.fft.fftshift(abs(np.sum(ftFields, axis=1))), 'r-')\n",
    "plt.xlim(0,11)\n",
    "plt.ylim(-0.5,50)"
   ]
  },
  {
   "cell_type": "code",
   "execution_count": null,
   "id": "5712e465-9aef-4a09-a1b4-4c2c40b58c52",
   "metadata": {},
   "outputs": [],
   "source": [
    "def eigenfrequency(m, n, p, Lx, Ly, Lz):\n",
    "    return c0/2 * np.sqrt( (m/Lx)**2 + (n/Ly)**2 + (p/Lz)**2 )"
   ]
  },
  {
   "cell_type": "code",
   "execution_count": null,
   "id": "94859f3c-60fb-4581-8660-66ec85f6df96",
   "metadata": {},
   "outputs": [],
   "source": [
    "eigenfreqList = []\n",
    "\n",
    "xModes = 4\n",
    "yModes = 3\n",
    "zModes = 3\n",
    "\n",
    "# TM modes\n",
    "for m in range(1, xModes):\n",
    "    for n in range(1, yModes):\n",
    "        for p in range(zModes):\n",
    "            eigenfreqList.append( eigenfrequency(m,n,p, Lx, Ly, Lz) )\n",
    "# TE modes\n",
    "for p in range(1, zModes):\n",
    "    for n in range(yModes):\n",
    "        if n==0:\n",
    "            for m in range(1, xModes):\n",
    "                eigenfreqList.append( eigenfrequency(m,n,p, Lx, Ly, Lz) )\n",
    "        else:\n",
    "            eigenfreqList.append( eigenfrequency(0,n,p, Lx, Ly, Lz) )"
   ]
  },
  {
   "cell_type": "code",
   "execution_count": null,
   "id": "2d4ed2da-3d2e-46fe-af7b-55eb878dd238",
   "metadata": {},
   "outputs": [],
   "source": [
    "plt.close()\n",
    "plt.plot(np.fft.fftshift(frequencies/1e9), np.fft.fftshift(abs(np.sum(ftFields, axis=1))), 'r-')\n",
    "\n",
    "plt.vlines([item/1e9 for item in np.unique(eigenfreqList)], 0, 50, linestyles='-.')\n",
    "plt.xlim(0,10)\n",
    "plt.ylim(0,50)"
   ]
  },
  {
   "cell_type": "code",
   "execution_count": null,
   "id": "b0b45095-1919-4a32-b7e5-c640c9515a64",
   "metadata": {},
   "outputs": [],
   "source": [
    "import scipy.signal as spsig"
   ]
  },
  {
   "cell_type": "code",
   "execution_count": null,
   "id": "cc1d3147-f233-4c61-8e95-4b26aa21dbe0",
   "metadata": {},
   "outputs": [],
   "source": [
    "subset = abs(np.sum(ftFields, axis=1))[:len(ftFields)//2]"
   ]
  },
  {
   "cell_type": "code",
   "execution_count": null,
   "id": "16d041d9-b9ff-4b06-a6c5-62264f1181d7",
   "metadata": {},
   "outputs": [],
   "source": [
    "subsetFrequencies = frequencies[:len(ftFields)//2]/1e9"
   ]
  },
  {
   "cell_type": "code",
   "execution_count": null,
   "id": "33963b41-f23d-4fc6-bd11-6aa2c3e0dc98",
   "metadata": {},
   "outputs": [],
   "source": []
  },
  {
   "cell_type": "code",
   "execution_count": null,
   "id": "462fd663-3ec7-4859-9cf5-934dd01cbe8d",
   "metadata": {},
   "outputs": [],
   "source": [
    "peaks, _ = spsig.find_peaks(abs(np.sum(ftFields, axis=1))[:len(ftFields)//2])"
   ]
  },
  {
   "cell_type": "code",
   "execution_count": null,
   "id": "308286b5-da62-4339-a24d-9a4cbb83b702",
   "metadata": {},
   "outputs": [],
   "source": [
    "plt.close()\n",
    "plt.plot(np.fft.fftshift(frequencies/1e9), np.fft.fftshift(abs(np.sum(ftFields, axis=1))), 'r-')\n",
    "plt.plot(np.fft.fftshift(frequencies/1e9), abs(np.sum(ftFields, axis=1)), 'r-')\n",
    "\n",
    "plt.plot(subsetFrequencies[peaks], subset[peaks], \"x\")\n",
    "\n",
    "plt.vlines([item/1e9 for item in np.unique(eigenfreqList)], 0, 50, linestyles='-.')\n",
    "plt.xlim(0,10)\n",
    "plt.ylim(0,50)"
   ]
  },
  {
   "cell_type": "code",
   "execution_count": null,
   "id": "34a06080-6f1b-4213-beb1-b83487c5b1be",
   "metadata": {},
   "outputs": [],
   "source": [
    "np.unique(subsetFrequencies[peaks])[:len(np.unique(eigenfreqList))]"
   ]
  },
  {
   "cell_type": "code",
   "execution_count": null,
   "id": "15a16568-ceca-4ff5-b91c-b54c26857e5c",
   "metadata": {},
   "outputs": [],
   "source": [
    "np.unique(eigenfreqList)/1e9"
   ]
  },
  {
   "cell_type": "markdown",
   "id": "636b7f2a-a1d5-48aa-b1da-2361b7fe2406",
   "metadata": {},
   "source": [
    "## Plot field slices using Holoviews"
   ]
  },
  {
   "cell_type": "code",
   "execution_count": null,
   "id": "34d381ce-cf28-4405-aed2-938c46ac11d3",
   "metadata": {},
   "outputs": [],
   "source": [
    "hv.extension('matplotlib')"
   ]
  },
  {
   "cell_type": "code",
   "execution_count": null,
   "id": "687a610d-d6b6-460d-870e-28dc76e58b55",
   "metadata": {},
   "outputs": [],
   "source": [
    "dataArray = grid.fldE[0,:,:,:]"
   ]
  },
  {
   "cell_type": "code",
   "execution_count": null,
   "id": "107365ba-9ddb-497a-a3cb-5342f4988ec2",
   "metadata": {},
   "outputs": [],
   "source": [
    "dataArray.shape"
   ]
  },
  {
   "cell_type": "code",
   "execution_count": null,
   "id": "00859a8e-8f1c-4fc8-81ec-f6024628f8e9",
   "metadata": {},
   "outputs": [],
   "source": [
    "ds = hv.Dataset((np.arange(dataArray.shape[2]), np.arange(dataArray.shape[1]), np.arange(dataArray.shape[0]), dataArray ), ['x', 'y', 'z'], \"z-component\")"
   ]
  },
  {
   "cell_type": "code",
   "execution_count": null,
   "id": "766f7b91-ba59-492b-8246-b728c9fbf2df",
   "metadata": {},
   "outputs": [],
   "source": [
    "hv.opts.defaults(\n",
    "hv.opts.Image(cmap='viridis', fig_size=200.0, normalize=True, colorbar=True),\n",
    "hv.opts.Labels(fontsize='8pt'),\n",
    "    hv.opts.Path(color='white'),\n",
    "    hv.opts.Spread(linewidth=600)\n",
    ")"
   ]
  },
  {
   "cell_type": "code",
   "execution_count": null,
   "id": "09590eba-9e8d-471a-9e82-bb0ca9b8844e",
   "metadata": {},
   "outputs": [],
   "source": [
    "ds.to(hv.Image, ['x','y'])"
   ]
  },
  {
   "cell_type": "code",
   "execution_count": null,
   "id": "a54cc888-b220-4dd1-a219-a367bec0be44",
   "metadata": {},
   "outputs": [],
   "source": []
  },
  {
   "cell_type": "markdown",
   "id": "80b4062c-4fef-4886-9417-0209aa6a4f4d",
   "metadata": {},
   "source": [
    "## Point charge field init"
   ]
  },
  {
   "cell_type": "code",
   "execution_count": null,
   "id": "6501fa9a-06ff-49b5-a89e-a4962c9d3bac",
   "metadata": {},
   "outputs": [],
   "source": [
    "def pointCharge(x,y,z):\n",
    "    factor = 1.0/(4*np.pi*eps0)\n",
    "    return factor * np.array([x,y,z])/np.linalg.norm(np.array([x,y,z]))**3"
   ]
  },
  {
   "cell_type": "code",
   "execution_count": null,
   "id": "21e375b0-b7c7-4fb6-b869-6858020992c9",
   "metadata": {},
   "outputs": [],
   "source": [
    "grid2 = UnifiedYeeGrid(Nx, Ny, Nz, pmlCells=(0,0,0), cellDim=(1./Cx, 1./Cy, 1./Cz) )"
   ]
  },
  {
   "cell_type": "code",
   "execution_count": null,
   "id": "933be071-c138-4ec2-a8d9-9df412a3c158",
   "metadata": {},
   "outputs": [],
   "source": [
    "grid2.initE(pointCharge)"
   ]
  },
  {
   "cell_type": "code",
   "execution_count": null,
   "id": "0364604c-5b09-491c-979e-adb174aec878",
   "metadata": {},
   "outputs": [],
   "source": [
    "dataArray2 = np.linalg.norm(grid2.fldE, axis=0)"
   ]
  },
  {
   "cell_type": "code",
   "execution_count": null,
   "id": "0d36d35b-c4fa-452f-8bec-a1cfb9d1a2e1",
   "metadata": {},
   "outputs": [],
   "source": [
    "from matplotlib.colors import LogNorm, SymLogNorm"
   ]
  },
  {
   "cell_type": "code",
   "execution_count": null,
   "id": "c8375c84-0758-4a1c-99be-3c4ca380e221",
   "metadata": {},
   "outputs": [],
   "source": [
    "vmin = max(1e-40, abs(dataArray2).min())\n",
    "vmax = max(1e-10, abs(dataArray2).max())\n",
    "\n",
    "linthrsh = np.quantile(abs(dataArray2), 0.25)\n",
    "forceNorm = SymLogNorm(vmax=vmax, vmin=-vmax, linthresh=linthrsh );"
   ]
  },
  {
   "cell_type": "code",
   "execution_count": null,
   "id": "f59cee4f-b224-4559-9bb2-b034b3b79307",
   "metadata": {},
   "outputs": [],
   "source": [
    "hv.opts.defaults(\n",
    "hv.opts.Image(cmap='viridis', fig_size=200.0, normalize=True, colorbar=True, norm=forceNorm),\n",
    "hv.opts.Labels(fontsize='8pt'),\n",
    "    hv.opts.Path(color='white'),\n",
    "    hv.opts.Spread(linewidth=600)\n",
    ")"
   ]
  },
  {
   "cell_type": "code",
   "execution_count": null,
   "id": "e3936e4d-4023-44d4-a0f7-f1f9e91499cd",
   "metadata": {},
   "outputs": [],
   "source": [
    "ds2 = hv.Dataset((np.arange(grid2.originCellCoordinates[2], grid2.originCellCoordinates[2]+grid2.dz*grid2.Nz_virt, grid2.dz),\n",
    "                  np.arange(grid2.originCellCoordinates[1], grid2.originCellCoordinates[1]+grid2.dy*grid2.Ny_virt, grid2.dy),\n",
    "                  np.arange(grid2.originCellCoordinates[0], grid2.originCellCoordinates[0]+grid2.dx*grid2.Nx_virt, grid2.dx), abs(dataArray2) ), ['x', 'y', 'z'], \"$\\\\vert \\\\vec{E}\\\\vert$ [V/m]\", fontsize='large')"
   ]
  },
  {
   "cell_type": "code",
   "execution_count": null,
   "id": "5b562d74-f839-4f46-b479-272f61d67fa1",
   "metadata": {},
   "outputs": [],
   "source": [
    "ds2.to(hv.Image, ['x','y'])"
   ]
  },
  {
   "cell_type": "code",
   "execution_count": null,
   "id": "4b8588f5-3e41-4f19-8f2a-64ec90cd5a44",
   "metadata": {},
   "outputs": [],
   "source": []
  }
 ],
 "metadata": {
  "kernelspec": {
   "display_name": "Python 3",
   "language": "python",
   "name": "python3"
  },
  "language_info": {
   "codemirror_mode": {
    "name": "ipython",
    "version": 3
   },
   "file_extension": ".py",
   "mimetype": "text/x-python",
   "name": "python",
   "nbconvert_exporter": "python",
   "pygments_lexer": "ipython3",
   "version": "3.6.13"
  }
 },
 "nbformat": 4,
 "nbformat_minor": 5
}
